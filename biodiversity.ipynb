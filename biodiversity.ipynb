{
 "cells": [
  {
   "cell_type": "markdown",
   "metadata": {},
   "source": [
    "# Importing Necessary Libarries and Datasets."
   ]
  },
  {
   "cell_type": "code",
   "execution_count": 1,
   "metadata": {},
   "outputs": [],
   "source": [
    "import pandas as pd\n",
    "import seaborn as sns\n",
    "import matplotlib.pyplot as plt\n",
    "import numpy as np\n",
    "from sklearn.experimental import enable_iterative_imputer\n",
    "from sklearn.impute import IterativeImputer\n",
    "from sklearn.model_selection import train_test_split\n",
    "df_observations = pd.read_csv('observations.csv')\n",
    "df_species = pd.read_csv('species_info.csv')"
   ]
  },
  {
   "cell_type": "code",
   "execution_count": 32,
   "metadata": {},
   "outputs": [
    {
     "name": "stdout",
     "output_type": "stream",
     "text": [
      "['Species of Concern' 'Endangered' 'Threatened' 'In Recovery']\n"
     ]
    }
   ],
   "source": [
    "merged_df = pd.merge(df_species, df_observations, on='scientific_name')\n",
    "filtered_df_conservation_status = merged_df[merged_df['conservation_status'].notna()]\n",
    "unique_value = filtered_df_conservation_status['conservation_status'].unique()"
   ]
  },
  {
   "cell_type": "code",
   "execution_count": 34,
   "metadata": {},
   "outputs": [],
   "source": [
    "grouped = filtered_df_conservation_status.groupby('conservation_status')\n",
    "\n",
    "# Create a dictionary to hold the subsets\n",
    "subsets_groupby = {status: group for status, group in grouped}\n",
    "\n",
    "# Assign each subset to a variable\n",
    "endangered_subset = subsets_groupby.get('Endangered')\n",
    "concern_subset = subsets_groupby.get('Species of Concern')\n",
    "recovery_subset = subsets_groupby.get('In Recovery')\n",
    "threatned_subset = subsets_groupby.get('Threatened')\n"
   ]
  }
 ],
 "metadata": {
  "kernelspec": {
   "display_name": "Python 3",
   "language": "python",
   "name": "python3"
  },
  "language_info": {
   "codemirror_mode": {
    "name": "ipython",
    "version": 3
   },
   "file_extension": ".py",
   "mimetype": "text/x-python",
   "name": "python",
   "nbconvert_exporter": "python",
   "pygments_lexer": "ipython3",
   "version": "3.11.9"
  }
 },
 "nbformat": 4,
 "nbformat_minor": 4
}
